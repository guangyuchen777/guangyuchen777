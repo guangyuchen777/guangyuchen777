{
 "cells": [
  {
   "cell_type": "code",
   "execution_count": 1,
   "metadata": {},
   "outputs": [],
   "source": [
    "from oocsi import OOCSI"
   ]
  },
  {
   "cell_type": "code",
   "execution_count": 2,
   "metadata": {},
   "outputs": [
    {
     "name": "stdout",
     "output_type": "stream",
     "text": [
      "[GUANG_RECEIVER]: connecting to oocsi.id.tue.nl port 4444\n",
      "[GUANG_RECEIVER]: connection established\n"
     ]
    }
   ],
   "source": [
    "oocsi = OOCSI('GUANG_RECEIVER', 'oocsi.id.tue.nl')"
   ]
  },
  {
   "cell_type": "code",
   "execution_count": 3,
   "metadata": {},
   "outputs": [],
   "source": [
    "import numpy as np\n",
    "import pandas as pd\n",
    "import datetime\n",
    "import time\n",
    "import csv"
   ]
  },
  {
   "cell_type": "code",
   "execution_count": 6,
   "metadata": {},
   "outputs": [],
   "source": [
    "df2 = pd.DataFrame(columns = ['touchvalue', 'time'])\n",
    "df2.to_csv('datasets/Test_touchvalue.csv',index=False)"
   ]
  },
  {
   "cell_type": "code",
   "execution_count": 7,
   "metadata": {},
   "outputs": [
    {
     "name": "stdout",
     "output_type": "stream",
     "text": [
      "[GUANG_RECEIVER]: subscribed to esp-Guangchannel\n"
     ]
    }
   ],
   "source": [
    "def handleTouchValue(ESP_OOCSI_GUANG_SENDER, GUANG_RECEIVER, processOOCSI):  \n",
    "    if processOOCSI['touchValue']< 20:\n",
    "        touchvalue = processOOCSI['touchValue']\n",
    "        ts = time.time()\n",
    "        with open(\"datasets/Test_touchvalue.csv\",\"a\", newline='') as f:\n",
    "            fieldnames = ['touchvalue', 'time']\n",
    "            writer = csv.DictWriter(f, fieldnames=fieldnames)\n",
    "            writer.writerow({'touchvalue': touchvalue, 'time': ts})\n",
    "\n",
    "oocsi.subscribe('esp-Guangchannel', handleTouchValue)"
   ]
  }
 ],
 "metadata": {
  "kernelspec": {
   "display_name": "Python 3",
   "language": "python",
   "name": "python3"
  },
  "language_info": {
   "codemirror_mode": {
    "name": "ipython",
    "version": 3
   },
   "file_extension": ".py",
   "mimetype": "text/x-python",
   "name": "python",
   "nbconvert_exporter": "python",
   "pygments_lexer": "ipython3",
   "version": "3.6.5"
  }
 },
 "nbformat": 4,
 "nbformat_minor": 2
}
